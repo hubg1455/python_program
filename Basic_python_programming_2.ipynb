{
 "cells": [
  {
   "cell_type": "markdown",
   "id": "3a1a0edd",
   "metadata": {},
   "source": [
    "1. Write a Python program to convert kilometers to miles?"
   ]
  },
  {
   "cell_type": "code",
   "execution_count": 6,
   "id": "10dd4adf",
   "metadata": {},
   "outputs": [
    {
     "name": "stdout",
     "output_type": "stream",
     "text": [
      "5.500 km is equal to 3.418 miles\n"
     ]
    }
   ],
   "source": [
    "km = 5.5\n",
    "\n",
    "cf=0.621371\n",
    "miles= km*cf\n",
    "\n",
    "print(\"%0.3f km is equal to %0.3f miles\"%(km,miles))"
   ]
  },
  {
   "cell_type": "markdown",
   "id": "548970d7",
   "metadata": {},
   "source": [
    "2. Write a Python program to convert Celsius to Fahrenheit?"
   ]
  },
  {
   "cell_type": "code",
   "execution_count": 7,
   "id": "8b1b635a",
   "metadata": {},
   "outputs": [
    {
     "name": "stdout",
     "output_type": "stream",
     "text": [
      "35.00 celsius is equivalent:95.00 Fahrenheit\n"
     ]
    }
   ],
   "source": [
    "cel =35\n",
    "\n",
    "ft= (cel*1.8)+32\n",
    "\n",
    "print(\"%0.2f celsius is equivalent:%0.2f Fahrenheit\"%(cel,ft))"
   ]
  },
  {
   "cell_type": "markdown",
   "id": "adcc08fe",
   "metadata": {},
   "source": [
    "3. Write a Python program to display calendar?"
   ]
  },
  {
   "cell_type": "code",
   "execution_count": 22,
   "id": "81931d35",
   "metadata": {},
   "outputs": [
    {
     "name": "stdout",
     "output_type": "stream",
     "text": [
      "   November 2022\n",
      "Mo Tu We Th Fr Sa Su\n",
      "    1  2  3  4  5  6\n",
      " 7  8  9 10 11 12 13\n",
      "14 15 16 17 18 19 20\n",
      "21 22 23 24 25 26 27\n",
      "28 29 30\n",
      "\n"
     ]
    }
   ],
   "source": [
    "import calendar\n",
    "\n",
    "year=2022\n",
    "mnth=11\n",
    "\n",
    "print(calendar.month(year,mnth))\n",
    "#or\n",
    "#print(calendar.calendar(year))"
   ]
  },
  {
   "cell_type": "markdown",
   "id": "3c4cbfd3",
   "metadata": {},
   "source": [
    "4. Write a Python program to solve quadratic equation?"
   ]
  },
  {
   "cell_type": "code",
   "execution_count": 24,
   "id": "6ae6621c",
   "metadata": {},
   "outputs": [
    {
     "name": "stdout",
     "output_type": "stream",
     "text": [
      "enter the number(a!=0):3\n",
      "enter the number:5\n",
      "enter the number:2\n",
      "root are: ((-1+0j), (-0.6666666666666666+0j))\n"
     ]
    }
   ],
   "source": [
    "import cmath\n",
    "\n",
    "a= int(input(\"enter the number(a!=0):\"))\n",
    "b=int(input(\"enter the number:\"))\n",
    "c=int(input(\"enter the number:\"))\n",
    "\n",
    "#find discriminants\n",
    "dis= (b**2)-(4*a*c)\n",
    "\n",
    "#find the root\n",
    "\n",
    "sol1=((-b-cmath.sqrt(dis))/(2*a))\n",
    "sol2=((-b+cmath.sqrt(dis))/(2*a))\n",
    "\n",
    "print(\"root are:\",(sol1,sol2))"
   ]
  },
  {
   "cell_type": "markdown",
   "id": "45b92c59",
   "metadata": {},
   "source": [
    "5. Write a Python program to swap two variables without temp variable?"
   ]
  },
  {
   "cell_type": "code",
   "execution_count": 29,
   "id": "8f8c4d68",
   "metadata": {},
   "outputs": [
    {
     "name": "stdout",
     "output_type": "stream",
     "text": [
      "before swap x=4 and y=7\n",
      "after swap x=7 and y=4\n"
     ]
    }
   ],
   "source": [
    "x=4\n",
    "y=7\n",
    "\n",
    "print(\"before swap x=%d and y=%d\"%(x,y))\n",
    "\n",
    "x,y=y,x\n",
    "\n",
    "print(\"after swap x=%d and y=%d\"%(x,y))"
   ]
  },
  {
   "cell_type": "code",
   "execution_count": null,
   "id": "b6462458",
   "metadata": {},
   "outputs": [],
   "source": []
  },
  {
   "cell_type": "code",
   "execution_count": null,
   "id": "de911cfb",
   "metadata": {},
   "outputs": [],
   "source": []
  }
 ],
 "metadata": {
  "kernelspec": {
   "display_name": "Python 3 (ipykernel)",
   "language": "python",
   "name": "python3"
  },
  "language_info": {
   "codemirror_mode": {
    "name": "ipython",
    "version": 3
   },
   "file_extension": ".py",
   "mimetype": "text/x-python",
   "name": "python",
   "nbconvert_exporter": "python",
   "pygments_lexer": "ipython3",
   "version": "3.9.7"
  }
 },
 "nbformat": 4,
 "nbformat_minor": 5
}
