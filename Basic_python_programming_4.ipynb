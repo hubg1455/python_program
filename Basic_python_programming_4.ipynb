{
 "cells": [
  {
   "cell_type": "markdown",
   "id": "8f32737f",
   "metadata": {},
   "source": [
    "1. Write a Python Program to Find the Factorial of a Number?"
   ]
  },
  {
   "cell_type": "code",
   "execution_count": 5,
   "id": "c527a099",
   "metadata": {},
   "outputs": [
    {
     "name": "stdout",
     "output_type": "stream",
     "text": [
      "enter the number:4\n",
      "24\n"
     ]
    }
   ],
   "source": [
    "num= int(input(\"enter the number:\"))\n",
    "\n",
    "fact=1\n",
    "if fact<0:\n",
    "    print(\"factorial does not exist\")\n",
    "    \n",
    "for i in range(1,num+1):\n",
    "    fact=fact*i\n",
    "    \n",
    "print(fact)"
   ]
  },
  {
   "cell_type": "markdown",
   "id": "d8c196b7",
   "metadata": {},
   "source": [
    "2. Write a Python Program to Display the multiplication Table?"
   ]
  },
  {
   "cell_type": "code",
   "execution_count": 8,
   "id": "c4a7fbfc",
   "metadata": {},
   "outputs": [
    {
     "name": "stdout",
     "output_type": "stream",
     "text": [
      "enter number5\n",
      "5 x 1 = 5\n",
      "5 x 2 = 10\n",
      "5 x 3 = 15\n",
      "5 x 4 = 20\n",
      "5 x 5 = 25\n"
     ]
    }
   ],
   "source": [
    "n= int(input(\"enter number\"))\n",
    "\n",
    "for i in range(1,6):\n",
    "    \n",
    "    print(n,'x',i,'=',n*i)\n",
    "    "
   ]
  },
  {
   "cell_type": "markdown",
   "id": "c59337b9",
   "metadata": {},
   "source": [
    "3. Write a Python Program to Print the Fibonacci sequence?"
   ]
  },
  {
   "cell_type": "code",
   "execution_count": 24,
   "id": "3a065ed5",
   "metadata": {},
   "outputs": [
    {
     "name": "stdout",
     "output_type": "stream",
     "text": [
      "0\n",
      "1\n",
      "1\n",
      "2\n",
      "3\n",
      "5\n",
      "8\n",
      "13\n"
     ]
    }
   ],
   "source": [
    "\n",
    "def fab(n):\n",
    "    \n",
    "    a=0\n",
    "    b=1\n",
    "    \n",
    "    print(a)\n",
    "    print(b)\n",
    "    for i in range(2,n):\n",
    "        c=a+b\n",
    "        a=b\n",
    "        b=c\n",
    "        \n",
    "        print(c)\n",
    "    \n",
    "fab(8)"
   ]
  },
  {
   "cell_type": "markdown",
   "id": "aecc5cfc",
   "metadata": {},
   "source": [
    "4. Write a Python Program to Check Armstrong Number?"
   ]
  },
  {
   "cell_type": "code",
   "execution_count": 33,
   "id": "2436514e",
   "metadata": {},
   "outputs": [
    {
     "name": "stdout",
     "output_type": "stream",
     "text": [
      "enter the number:3645\n",
      "3645 is not Armstrong number\n"
     ]
    }
   ],
   "source": [
    "n= int(input(\"enter the number:\"))\n",
    "\n",
    "sum=0\n",
    "copy_n=n\n",
    "o= len(str(n))\n",
    "\n",
    "while n>0:\n",
    "    \n",
    "    num= n%10\n",
    "    sum+= num*o\n",
    "    n=n//10\n",
    "    \n",
    "if sum==copy_n:\n",
    "    print(f\"{copy_n} is Armstrong number\")\n",
    "    \n",
    "else:\n",
    "    print(f\"{copy_n} is not Armstrong number\")"
   ]
  },
  {
   "cell_type": "markdown",
   "id": "8043cde9",
   "metadata": {},
   "source": [
    "5. Write a Python Program to Find Armstrong Number in an Interval?"
   ]
  },
  {
   "cell_type": "code",
   "execution_count": 8,
   "id": "2227b65f",
   "metadata": {},
   "outputs": [
    {
     "name": "stdout",
     "output_type": "stream",
     "text": [
      "enter the number:100\n",
      "enter the number:1000\n",
      "125\n",
      "153\n",
      "216\n",
      "370\n",
      "371\n",
      "407\n",
      "729\n"
     ]
    }
   ],
   "source": [
    "lower_num= int(input(\"enter the number:\"))\n",
    "upper_num= int(input(\"enter the number:\"))\n",
    "\n",
    "for num in range(lower_num,upper_num+1):\n",
    "    o= len(str(num))\n",
    "    sum=0\n",
    "    n=num\n",
    "    \n",
    "\n",
    "    while n>0:\n",
    "\n",
    "        num1 = n%10\n",
    "        sum += num1**o\n",
    "        n=n//10\n",
    "\n",
    "        if num == sum:\n",
    "            print(num)"
   ]
  },
  {
   "cell_type": "markdown",
   "id": "461ae765",
   "metadata": {},
   "source": [
    "6. Write a Python Program to Find the Sum of Natural Numbers?        "
   ]
  },
  {
   "cell_type": "code",
   "execution_count": 12,
   "id": "5fb3580a",
   "metadata": {},
   "outputs": [
    {
     "name": "stdout",
     "output_type": "stream",
     "text": [
      "Enter a number: 5\n",
      "15\n"
     ]
    }
   ],
   "source": [
    "sum = 0\n",
    "\n",
    "num = int(input(\"Enter a number: \"))\n",
    "\n",
    "if num < 0:\n",
    "\n",
    "    print(\"Enter a positive number\")\n",
    "\n",
    "else:\n",
    "\n",
    "    while num >0:\n",
    "        sum =sum+num\n",
    "        num -=1\n",
    "        \n",
    "    print(sum)"
   ]
  },
  {
   "cell_type": "code",
   "execution_count": null,
   "id": "440b8151",
   "metadata": {},
   "outputs": [],
   "source": []
  }
 ],
 "metadata": {
  "kernelspec": {
   "display_name": "Python 3 (ipykernel)",
   "language": "python",
   "name": "python3"
  },
  "language_info": {
   "codemirror_mode": {
    "name": "ipython",
    "version": 3
   },
   "file_extension": ".py",
   "mimetype": "text/x-python",
   "name": "python",
   "nbconvert_exporter": "python",
   "pygments_lexer": "ipython3",
   "version": "3.9.7"
  }
 },
 "nbformat": 4,
 "nbformat_minor": 5
}
