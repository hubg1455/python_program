{
 "cells": [
  {
   "cell_type": "markdown",
   "id": "c4394f86",
   "metadata": {},
   "source": [
    "1. Write a Python Program to Find LCM?"
   ]
  },
  {
   "cell_type": "code",
   "execution_count": 1,
   "id": "ab8a9962",
   "metadata": {},
   "outputs": [
    {
     "name": "stdout",
     "output_type": "stream",
     "text": [
      "enter the first number\n",
      "12\n",
      "enter the second number\n",
      "16\n",
      "LCM of 12 and 16 is 48 \n"
     ]
    }
   ],
   "source": [
    "a= int(input(\"enter the first number\\n\"))\n",
    "b= int(input(\"enter the second number\\n\"))\n",
    "\n",
    "maxnum = max(a,b)\n",
    "\n",
    "while True:\n",
    "    if (maxnum%a==0 and maxnum%b==0):\n",
    "        break\n",
    "        \n",
    "    maxnum +=1\n",
    "        \n",
    "print(f\"LCM of {a} and {b} is {maxnum} \")\n",
    "        \n",
    "        "
   ]
  },
  {
   "cell_type": "markdown",
   "id": "19f21162",
   "metadata": {},
   "source": [
    "2. Write a Python Program to Find HCF?"
   ]
  },
  {
   "cell_type": "code",
   "execution_count": 3,
   "id": "b440e703",
   "metadata": {},
   "outputs": [
    {
     "data": {
      "text/plain": [
       "6"
      ]
     },
     "execution_count": 3,
     "metadata": {},
     "output_type": "execute_result"
    }
   ],
   "source": [
    "def f_hcf(x,y):\n",
    "    if x>y:\n",
    "        smaller=y\n",
    "        \n",
    "    else:\n",
    "        smaller=x\n",
    "        \n",
    "        for i in range(1,smaller+1):\n",
    "            if (x%i==0 and y%i==0):\n",
    "                \n",
    "                hcf = i\n",
    "            \n",
    "    return hcf\n",
    "\n",
    "f_hcf(12,18)"
   ]
  },
  {
   "cell_type": "markdown",
   "id": "cb12cbab",
   "metadata": {},
   "source": [
    "3. Write a Python Program to Convert Decimal to Binary, Octal and Hexadecimal?"
   ]
  },
  {
   "cell_type": "code",
   "execution_count": 4,
   "id": "d6a0205c",
   "metadata": {},
   "outputs": [
    {
     "name": "stdout",
     "output_type": "stream",
     "text": [
      "enter the number in decimal format10\n",
      "decimal to binary number 0b1010\n",
      "decimal to Octal number 0o12\n",
      "decimal to Hexadecimal number 0xa\n"
     ]
    }
   ],
   "source": [
    "dec = int(input(\"enter the number in decimal format\"))\n",
    "\n",
    "print(\"decimal to binary number\",bin(dec))\n",
    "\n",
    "print(\"decimal to Octal number\",oct(dec))\n",
    "\n",
    "print(\"decimal to Hexadecimal number\",hex(dec))"
   ]
  },
  {
   "cell_type": "markdown",
   "id": "316b9abf",
   "metadata": {},
   "source": [
    "4. Write a Python Program To Find ASCII value of a character?"
   ]
  },
  {
   "cell_type": "code",
   "execution_count": 10,
   "id": "63eb4416",
   "metadata": {},
   "outputs": [
    {
     "name": "stdout",
     "output_type": "stream",
     "text": [
      "ASCII value of A is 65\n"
     ]
    }
   ],
   "source": [
    "char = \"A\"\n",
    "\n",
    "print(\"ASCII value of\",char,\"is\",ord(char))"
   ]
  },
  {
   "cell_type": "markdown",
   "id": "72abb27d",
   "metadata": {},
   "source": [
    "5. Write a Python Program to Make a Simple Calculator with 4 basic mathematical operations?"
   ]
  },
  {
   "cell_type": "code",
   "execution_count": 8,
   "id": "9ea42f64",
   "metadata": {},
   "outputs": [
    {
     "name": "stdout",
     "output_type": "stream",
     "text": [
      "enter the first number :3\n",
      "enter the second number :4\n",
      "enter the choice(1/2/3/4):1\n",
      "Select operation\n",
      "1.Add\n",
      "2.Subtract\n",
      "3.Multiply\n",
      "4.Divide\n",
      "3.0 + 4.0 = 7.0\n"
     ]
    }
   ],
   "source": [
    "num1= float(input(\"enter the first number :\"))\n",
    "num2= float(input(\"enter the second number :\"))\n",
    "\n",
    "choice= int(input(\"enter the choice(1/2/3/4):\"))\n",
    "\n",
    "print(\"Select operation\")\n",
    "print(\"1.Add\")\n",
    "print(\"2.Subtract\")\n",
    "print(\"3.Multiply\")\n",
    "print(\"4.Divide\")\n",
    "\n",
    "if choice==1:\n",
    "    print(num1,\"+\",num2,\"=\",num1+num2)\n",
    "elif choice==2:\n",
    "    print(num1,\"-\",num2,\"=\",num1-num2)\n",
    "elif choice==3:\n",
    "    print(num1,\"*\",num2,\"=\",num1*num2)\n",
    "elif choice==4:\n",
    "    print(num1,\"/\",num2,\"=\",num1/num2)"
   ]
  },
  {
   "cell_type": "code",
   "execution_count": null,
   "id": "69758ad5",
   "metadata": {},
   "outputs": [],
   "source": []
  }
 ],
 "metadata": {
  "kernelspec": {
   "display_name": "Python 3 (ipykernel)",
   "language": "python",
   "name": "python3"
  },
  "language_info": {
   "codemirror_mode": {
    "name": "ipython",
    "version": 3
   },
   "file_extension": ".py",
   "mimetype": "text/x-python",
   "name": "python",
   "nbconvert_exporter": "python",
   "pygments_lexer": "ipython3",
   "version": "3.9.7"
  }
 },
 "nbformat": 4,
 "nbformat_minor": 5
}
